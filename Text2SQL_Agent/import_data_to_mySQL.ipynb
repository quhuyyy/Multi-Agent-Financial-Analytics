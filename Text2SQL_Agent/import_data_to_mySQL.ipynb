{
 "cells": [
  {
   "cell_type": "code",
   "execution_count": 6,
   "metadata": {},
   "outputs": [],
   "source": [
    "import pandas as pd\n",
    "from sqlalchemy import create_engine\n",
    "import os\n",
    "\n",
    "def import_data(data):\n",
    "    username = \"root\"  \n",
    "    password = \"02082004\"  \n",
    "    host = \"localhost\"  \n",
    "    port = 3306\n",
    "    database = \"Financial\"\n",
    "\n",
    "    engine = create_engine(f\"mysql+pymysql://{username}:{password}@{host}:{port}/{database}\")\n",
    "\n",
    "    df = pd.read_csv(f\"D:\\\\HK2_2024-2025\\\\Agentic_AI\\\\backend\\\\data_main\\\\{data}.csv\")\n",
    "\n",
    "    df.to_sql(f\"{data}\", con=engine, if_exists=\"append\", index=False)\n",
    "\n",
    "    print(\"Dữ liệu đã được nhập thành công vào MySQL!\")\n"
   ]
  },
  {
   "cell_type": "code",
   "execution_count": 11,
   "metadata": {},
   "outputs": [
    {
     "name": "stdout",
     "output_type": "stream",
     "text": [
      "Note: you may need to restart the kernel to use updated packages.\n"
     ]
    }
   ],
   "source": [
    "pip install -q pymysql"
   ]
  },
  {
   "cell_type": "code",
   "execution_count": 9,
   "metadata": {},
   "outputs": [
    {
     "data": {
      "text/plain": [
       "['all_tickers_history.csv',\n",
       " 'company_dividends.csv',\n",
       " 'company_news.csv',\n",
       " 'company_overview.csv',\n",
       " 'events.csv',\n",
       " 'insider_trading.csv',\n",
       " 'market_index.csv',\n",
       " 'profit_loss.csv',\n",
       " 'stock_codes_by_exchange.csv']"
      ]
     },
     "execution_count": 9,
     "metadata": {},
     "output_type": "execute_result"
    }
   ],
   "source": [
    "os.listdir(\"D:\\\\HK2_2024-2025\\\\Agentic_AI\\\\backend\\\\data_main\")"
   ]
  },
  {
   "cell_type": "code",
   "execution_count": 12,
   "metadata": {},
   "outputs": [
    {
     "name": "stdout",
     "output_type": "stream",
     "text": [
      "Dữ liệu đã được nhập thành công vào MySQL!\n",
      "Dữ liệu đã được nhập thành công vào MySQL!\n",
      "Dữ liệu đã được nhập thành công vào MySQL!\n",
      "Dữ liệu đã được nhập thành công vào MySQL!\n",
      "Dữ liệu đã được nhập thành công vào MySQL!\n",
      "Dữ liệu đã được nhập thành công vào MySQL!\n",
      "Dữ liệu đã được nhập thành công vào MySQL!\n",
      "Dữ liệu đã được nhập thành công vào MySQL!\n",
      "Dữ liệu đã được nhập thành công vào MySQL!\n"
     ]
    }
   ],
   "source": [
    "for i in os.listdir(\"D:\\\\HK2_2024-2025\\\\Agentic_AI\\\\backend\\\\data_main\"):\n",
    "    if i[-4:] == \".csv\":\n",
    "        import_data(i[:-4])\n"
   ]
  },
  {
   "cell_type": "code",
   "execution_count": null,
   "metadata": {},
   "outputs": [],
   "source": []
  }
 ],
 "metadata": {
  "kernelspec": {
   "display_name": "env",
   "language": "python",
   "name": "python3"
  },
  "language_info": {
   "codemirror_mode": {
    "name": "ipython",
    "version": 3
   },
   "file_extension": ".py",
   "mimetype": "text/x-python",
   "name": "python",
   "nbconvert_exporter": "python",
   "pygments_lexer": "ipython3",
   "version": "3.9.13"
  }
 },
 "nbformat": 4,
 "nbformat_minor": 2
}
