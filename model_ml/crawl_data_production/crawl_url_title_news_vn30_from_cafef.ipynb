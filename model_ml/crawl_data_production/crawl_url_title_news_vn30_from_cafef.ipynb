{
  "cells": [
    {
      "cell_type": "code",
      "execution_count": 1,
      "metadata": {
        "id": "m_BQhuvQkRA7"
      },
      "outputs": [],
      "source": [
        "from selenium import webdriver\n",
        "from time import sleep\n",
        "from selenium.webdriver.common.keys import Keys\n",
        "from selenium.webdriver.common.by import By\n",
        "from selenium.webdriver.chrome.service import Service\n",
        "import random\n",
        "\n",
        "import pandas as pd"
      ]
    },
    {
      "cell_type": "code",
      "execution_count": 2,
      "metadata": {
        "id": "dfqXoixcVc5O"
      },
      "outputs": [],
      "source": [
        "import os"
      ]
    },
    {
      "cell_type": "code",
      "execution_count": 3,
      "metadata": {
        "id": "3dEka_ELdVYW"
      },
      "outputs": [],
      "source": [
        "from selenium.webdriver.common.action_chains import ActionChains"
      ]
    },
    {
      "cell_type": "code",
      "execution_count": null,
      "metadata": {
        "colab": {
          "base_uri": "https://localhost:8080/"
        },
        "id": "kkIZ0OX3ul_T",
        "outputId": "d2d984e8-f381-44f4-e43b-ddd1602d1afd"
      },
      "outputs": [
        {
          "name": "stdout",
          "output_type": "stream",
          "text": [
            "--2025-05-04 01:48:02--  https://storage.googleapis.com/chrome-for-testing-public/136.0.7103.39/linux64/chromedriver-linux64.zip\n",
            "Resolving storage.googleapis.com (storage.googleapis.com)... 74.125.126.207, 74.125.132.207, 74.125.201.207, ...\n",
            "Connecting to storage.googleapis.com (storage.googleapis.com)|74.125.126.207|:443... connected.\n",
            "HTTP request sent, awaiting response... 200 OK\n",
            "Length: 9593043 (9.1M) [application/zip]\n",
            "Saving to: ‘chromedriver-linux64.zip.1’\n",
            "\n",
            "chromedriver-linux6 100%[===================>]   9.15M  --.-KB/s    in 0.1s    \n",
            "\n",
            "2025-05-04 01:48:02 (87.1 MB/s) - ‘chromedriver-linux64.zip.1’ saved [9593043/9593043]\n",
            "\n",
            "Archive:  chromedriver-linux64.zip\n",
            "replace chromedriver-linux64/LICENSE.chromedriver? [y]es, [n]o, [A]ll, [N]one, [r]ename: y\n",
            "  inflating: chromedriver-linux64/LICENSE.chromedriver  \n",
            "replace chromedriver-linux64/THIRD_PARTY_NOTICES.chromedriver? [y]es, [n]o, [A]ll, [N]one, [r]ename: y\n",
            "  inflating: chromedriver-linux64/THIRD_PARTY_NOTICES.chromedriver  \n",
            "  inflating: chromedriver-linux64/chromedriver  \n"
          ]
        }
      ],
      "source": [
        "# !wget https://storage.googleapis.com/chrome-for-testing-public/136.0.7103.39/linux64/chromedriver-linux64.zip\n",
        "# !unzip chromedriver-linux64.zip\n",
        "# !mv chromedriver-linux64/chromedriver /usr/bin/chromedriver\n",
        "# !chmod +x /usr/bin/chromedriver"
      ]
    },
    {
      "cell_type": "code",
      "execution_count": 5,
      "metadata": {
        "id": "ZHpOQ5eDm_Nw"
      },
      "outputs": [],
      "source": [
        "from selenium import webdriver\n",
        "from selenium.webdriver.chrome.service import Service\n",
        "from selenium.webdriver.chrome.options import Options"
      ]
    },
    {
      "cell_type": "code",
      "execution_count": 6,
      "metadata": {
        "id": "1YspHoHtyHhZ"
      },
      "outputs": [],
      "source": [
        "from datetime import datetime"
      ]
    },
    {
      "cell_type": "code",
      "execution_count": 7,
      "metadata": {
        "id": "scgFBVrZnGSB"
      },
      "outputs": [],
      "source": [
        "options = Options()\n",
        "options.add_argument(\"--headless\")\n",
        "options.add_argument(\"--no-sandbox\")\n",
        "options.add_argument(\"--disable-dev-shm-usage\")\n",
        "options.binary_location = \"/usr/bin/google-chrome\""
      ]
    },
    {
      "cell_type": "code",
      "execution_count": 8,
      "metadata": {
        "id": "_Dg2HeZSokQt"
      },
      "outputs": [],
      "source": [
        "service = Service(\"/usr/bin/chromedriver\")\n",
        "browser = webdriver.Chrome(service=service, options=options)"
      ]
    },
    {
      "cell_type": "code",
      "execution_count": 9,
      "metadata": {
        "id": "oBpmf-4DuYvO"
      },
      "outputs": [],
      "source": [
        "def craw_stock_news(ticker, start_date, end_date, roof_path):\n",
        "  df = pd.DataFrame(data = None, columns = ['ticker','time', 'tittle', 'url'])\n",
        "  browser.get(\"https://cafef.vn/du-lieu/tin-doanh-nghiep/\"+str(ticker)+\"/event.chn\")\n",
        "  print(browser.title)\n",
        "  flag = True\n",
        "  while (flag):\n",
        "    li_elements = browser.find_elements(By.XPATH, \"//div[@id='divEvents']/ul/li\")\n",
        "    for idx, li in enumerate(li_elements, start= 1):\n",
        "      span = li.find_element(By.TAG_NAME, \"span\")\n",
        "      curent_date_of_new = span.text\n",
        "      curent_date_of_new_convert = datetime.strptime(curent_date_of_new, \"%d/%m/%Y %H:%M\")\n",
        "      if (curent_date_of_new_convert < start_date):\n",
        "        print(\"Đã hết thời gian cần tìm\")\n",
        "        flag = False\n",
        "        break\n",
        "      if curent_date_of_new_convert >= start_date and curent_date_of_new_convert <= end_date:\n",
        "        time = curent_date_of_new\n",
        "        url = li.find_element(By.TAG_NAME, \"a\").get_attribute('href')\n",
        "        title = li.find_element(By.TAG_NAME, \"a\").text\n",
        "        print('Đang lấy bài báo với thông tin như sau: ')\n",
        "        print(time)\n",
        "        print(title)\n",
        "        print(url)\n",
        "        new_row = {'ticker': ticker, 'time':time, 'tittle': title, 'url':url}\n",
        "        df = pd.concat([df, pd.DataFrame([new_row])], ignore_index=True)\n",
        "      if (idx == len(li_elements)):\n",
        "        print(\"Đây là phần tử cuối cùng\")\n",
        "        # Click vào nút xem tiếp\n",
        "        try:\n",
        "          btn_next_element = browser.find_element(By.XPATH, \"//span[@id='spanNext']/a\")\n",
        "          browser.execute_script(\"arguments[0].click();\", btn_next_element)\n",
        "          sleep(random.uniform(1, 2))\n",
        "          print(\"Cuyển qua trang tiếp theo\")\n",
        "        except Exception as e:\n",
        "          print(f\"Không thể click nút tiếp: {e}\")\n",
        "          flag = False\n",
        "          break\n",
        "  # Tạo thư mục nếu chưa tồn tại\n",
        "  os.makedirs(roof_path, exist_ok=True)\n",
        "  file_path = roof_path + \"/\" + str(ticker) + \".xlsx\"\n",
        "  with pd.ExcelWriter(file_path, engine='openpyxl', mode='w') as writer:\n",
        "    df.to_excel(writer, sheet_name='Sheet1', index=False)\n",
        "  print(\"Đã lưu file excel cho cổ phiếu \" + str(ticker))\n",
        "  # 5. Đóng browser\n",
        "  # browser.close()"
      ]
    },
    {
      "cell_type": "code",
      "execution_count": 26,
      "metadata": {
        "id": "72RYxVRWx-ps"
      },
      "outputs": [],
      "source": [
        "end_date = datetime.strptime('04/06/2025 00:00', \"%d/%m/%Y %H:%M\")\n",
        "start_date = datetime.strptime('01/06/2025 00:00', \"%d/%m/%Y %H:%M\")"
      ]
    },
    {
      "cell_type": "code",
      "execution_count": 27,
      "metadata": {
        "colab": {
          "base_uri": "https://localhost:8080/"
        },
        "id": "C1PoANSGxf94",
        "outputId": "e4b1e91a-df4b-4d5d-f276-9c8bf0f08533"
      },
      "outputs": [
        {
          "name": "stdout",
          "output_type": "stream",
          "text": [
            "ACB : Tin tức doanh nghiệp niêm yết | CafeF.vn\n",
            "Đang lấy bài báo với thông tin như sau: \n",
            "02/06/2025 00:00\n",
            "ACB: Nghị quyết HĐQT về phương án phát hành trái phiếu riêng lẻ lần 2.2025\n",
            "https://cafef.vn/du-lieu/ACB-2212106/acb-nghi-quyet-hdqt-ve-phuong-an-phat-hanh-trai-phieu-rieng-le-lan-22025.chn\n",
            "Đang lấy bài báo với thông tin như sau: \n",
            "02/06/2025 00:00\n",
            "ACB: Đã phát hành 669.998.687 cổ phiếu để trả cổ tức\n",
            "https://cafef.vn/du-lieu/ACB-2212109/acb-da-phat-hanh-669998687-co-phieu-de-tra-co-tuc.chn\n",
            "Đã hết thời gian cần tìm\n",
            "Đã lưu file excel cho cổ phiếu ACB\n"
          ]
        }
      ],
      "source": [
        "craw_stock_news(\"ACB\", start_date, end_date, roof_path=\"/home/Trong/Agentic_AI/model_ml/sentiment\")"
      ]
    }
  ],
  "metadata": {
    "colab": {
      "provenance": []
    },
    "kernelspec": {
      "display_name": "env",
      "language": "python",
      "name": "python3"
    },
    "language_info": {
      "codemirror_mode": {
        "name": "ipython",
        "version": 3
      },
      "file_extension": ".py",
      "mimetype": "text/x-python",
      "name": "python",
      "nbconvert_exporter": "python",
      "pygments_lexer": "ipython3",
      "version": "3.12.3"
    }
  },
  "nbformat": 4,
  "nbformat_minor": 0
}
